{
  "nbformat": 4,
  "nbformat_minor": 0,
  "metadata": {
    "colab": {
      "provenance": []
    },
    "kernelspec": {
      "name": "python3",
      "display_name": "Python 3"
    },
    "language_info": {
      "name": "python"
    }
  },
  "cells": [
    {
      "cell_type": "markdown",
      "source": [
        "## Natural Language Processing Tasks"
      ],
      "metadata": {
        "id": "vmJNYoyKCBzv"
      }
    },
    {
      "cell_type": "code",
      "execution_count": 1,
      "metadata": {
        "id": "begsGkrX5k6T",
        "colab": {
          "base_uri": "https://localhost:8080/"
        },
        "outputId": "dd82caea-a12f-4f74-ca63-e002aaecd11c"
      },
      "outputs": [
        {
          "output_type": "stream",
          "name": "stdout",
          "text": [
            "\u001b[?25l     \u001b[90m━━━━━━━━━━━━━━━━━━━━━━━━━━━━━━━━━━━━━━━━\u001b[0m \u001b[32m0.0/220.3 kB\u001b[0m \u001b[31m?\u001b[0m eta \u001b[36m-:--:--\u001b[0m\r\u001b[2K     \u001b[91m━━━━━━━━━━━━━━━━━━━━━━\u001b[0m\u001b[90m╺\u001b[0m\u001b[90m━━━━━━━━━━━━━━━━━\u001b[0m \u001b[32m122.9/220.3 kB\u001b[0m \u001b[31m3.4 MB/s\u001b[0m eta \u001b[36m0:00:01\u001b[0m\r\u001b[2K     \u001b[90m━━━━━━━━━━━━━━━━━━━━━━━━━━━━━━━━━━━━━━━━\u001b[0m \u001b[32m220.3/220.3 kB\u001b[0m \u001b[31m4.0 MB/s\u001b[0m eta \u001b[36m0:00:00\u001b[0m\n",
            "\u001b[2K     \u001b[90m━━━━━━━━━━━━━━━━━━━━━━━━━━━━━━━━━━━━━━━━\u001b[0m \u001b[32m75.0/75.0 kB\u001b[0m \u001b[31m7.4 MB/s\u001b[0m eta \u001b[36m0:00:00\u001b[0m\n",
            "\u001b[2K     \u001b[90m━━━━━━━━━━━━━━━━━━━━━━━━━━━━━━━━━━━━━━━━\u001b[0m \u001b[32m76.9/76.9 kB\u001b[0m \u001b[31m6.8 MB/s\u001b[0m eta \u001b[36m0:00:00\u001b[0m\n",
            "\u001b[2K     \u001b[90m━━━━━━━━━━━━━━━━━━━━━━━━━━━━━━━━━━━━━━━━\u001b[0m \u001b[32m58.3/58.3 kB\u001b[0m \u001b[31m4.2 MB/s\u001b[0m eta \u001b[36m0:00:00\u001b[0m\n",
            "\u001b[?25h\u001b[31mERROR: pip's dependency resolver does not currently take into account all the packages that are installed. This behaviour is the source of the following dependency conflicts.\n",
            "llmx 0.0.15a0 requires cohere, which is not installed.\n",
            "llmx 0.0.15a0 requires tiktoken, which is not installed.\u001b[0m\u001b[31m\n",
            "\u001b[0m"
          ]
        }
      ],
      "source": [
        "!pip install -q openai"
      ]
    },
    {
      "cell_type": "code",
      "source": [
        "from openai import OpenAI\n",
        "from rich import print\n",
        "import json"
      ],
      "metadata": {
        "id": "vRMy8a9iYJ3a"
      },
      "execution_count": 2,
      "outputs": []
    },
    {
      "cell_type": "code",
      "source": [
        "from google.colab import userdata\n",
        "openai_api_key = userdata.get('openai_api_key')"
      ],
      "metadata": {
        "id": "xWNtb8ZfYS5Z"
      },
      "execution_count": 3,
      "outputs": []
    },
    {
      "cell_type": "markdown",
      "source": [
        "## Helper function\n",
        "\n",
        "To generate response from OpenAI API\n",
        "\n",
        "Input parameters:\n",
        "- 'prompt': A string representing the user's input or query.\n",
        "- 'system': An optional string representing system-level instructions (default is an empty string).\n",
        "- 'temperature': An optional float parameter controlling the randomness of the response (default is 0.0, making it deterministic).\n",
        "- 'max_tokens': An optional integer specifying the maximum length of the generated response (default is 50 tokens)."
      ],
      "metadata": {
        "id": "wTpi8rqVYNE6"
      }
    },
    {
      "cell_type": "code",
      "source": [
        "def generate_response(prompt: str, system: str =\" \", temperature: float =0.0, max_tokens:int = 50):\n",
        "\n",
        "  try:\n",
        "    # Create an OpenAI client using the API key\n",
        "    client = OpenAI(api_key=openai_api_key)\n",
        "\n",
        "    # Create an empty list to store messages\n",
        "    messages = []\n",
        "\n",
        "    # If a system-level instruction is provided, add it to the list of messages\n",
        "    if system:\n",
        "      messages.append({\"role\": \"system\", \"content\": system})\n",
        "\n",
        "    # Add the user's input or query as a message\n",
        "    messages.append({\"role\": \"user\", \"content\": prompt})\n",
        "\n",
        "    # Generate a response using the OpenAI chat completions API, specifying model, messages, temperature, and max_tokens\n",
        "    response = client.chat.completions.create(\n",
        "        model=\"gpt-3.5-turbo-1106\",\n",
        "        messages=messages,\n",
        "        temperature=temperature,\n",
        "        max_tokens=max_tokens\n",
        "    )\n",
        "  except Exception as error:\n",
        "    # Handle any exceptions that may occur during API usage and print the error message\n",
        "    print(error)\n",
        "\n",
        "  # Return the content of the generated response as a string\n",
        "  return response.choices[0].message.content\n"
      ],
      "metadata": {
        "id": "fCYMklCkYLSZ"
      },
      "execution_count": 4,
      "outputs": []
    },
    {
      "cell_type": "markdown",
      "source": [
        "# Natural Language Processing"
      ],
      "metadata": {
        "id": "72NOqLhZCE-W"
      }
    },
    {
      "cell_type": "code",
      "source": [
        "customer_review = \"\"\"\n",
        "I had the pleasure of dining at \"The Gourmet Bistro\" last night, and I must say, it was an absolutely delightful experience from start to finish. The ambiance was cozy and inviting, perfect for a romantic evening out.\n",
        "\n",
        "To start, we ordered the Caprese Salad, which was a fresh and vibrant combination of ripe tomatoes, creamy mozzarella, and aromatic basil drizzled with a balsamic reduction. It was a refreshing palate cleanser and set the tone for the meal.\n",
        "\n",
        "For our main courses, my partner ordered the Grilled Salmon with Lemon-Dill Sauce, while I opted for the Mushroom Risotto. The salmon was cooked to perfection, flaky and tender, with a zesty lemon-dill sauce that added a burst of flavor. The Mushroom Risotto was a creamy, savory delight, with a generous amount of earthy mushrooms and perfectly al dente Arborio rice.\n",
        "\n",
        "We couldn't resist trying the restaurant's signature dessert, the Molten Chocolate Lava Cake. It arrived warm and gooey, with a rich, oozing chocolate center that paired wonderfully with the accompanying scoop of vanilla ice cream. A sweet conclusion to an outstanding meal.\n",
        "\n",
        "The service was impeccable, with our server being knowledgeable about the menu and offering excellent wine recommendations. The sommelier even suggested a delightful Pinot Noir that complemented our dishes beautifully.\n",
        "\n",
        "Overall, \"The Gourmet Bistro\" delivered a memorable dining experience that exceeded our expectations. The attention to detail in every aspect, from the food quality to the service, was commendable. We will definitely be returning for more culinary adventures in the future.\n",
        "\"\"\""
      ],
      "metadata": {
        "id": "g3fi3xP5ZpQm"
      },
      "execution_count": 5,
      "outputs": []
    },
    {
      "cell_type": "markdown",
      "source": [
        "## Summarization"
      ],
      "metadata": {
        "id": "MipN6IRbCHqN"
      }
    },
    {
      "cell_type": "code",
      "source": [
        "# prompt template for summarization\n",
        "prompt_template = \"\"\"You are an expert at summarizing text. \\\n",
        "Your task is to summarize the restaurant review below delimited by triple backticks.\n",
        "\n",
        "Review:\n",
        "```\n",
        "{customer_review}\n",
        "```\n",
        "\n",
        "Summary:\n",
        "\"\"\"\n",
        "\n",
        "prompt = prompt_template.format(customer_review=customer_review)\n",
        "# generate_response\n",
        "response = generate_response(prompt, max_tokens=256)\n",
        "\n",
        "# print response\n",
        "print(response)"
      ],
      "metadata": {
        "id": "TiNZ5OSfYXRp",
        "colab": {
          "base_uri": "https://localhost:8080/",
          "height": 130
        },
        "outputId": "b35556e6-e108-4627-997d-86c1a8568341"
      },
      "execution_count": 6,
      "outputs": [
        {
          "output_type": "display_data",
          "data": {
            "text/plain": [
              "\u001b[32m\"The Gourmet Bistro\"\u001b[0m provided a delightful dining experience with a cozy ambiance perfect for a romantic evening. \n",
              "The Caprese Salad was a refreshing start, followed by perfectly cooked Grilled Salmon with Lemon-Dill Sauce and a \n",
              "creamy Mushroom Risotto for the main courses. The signature Molten Chocolate Lava Cake was a rich and satisfying \n",
              "dessert. The impeccable service included knowledgeable staff and excellent wine recommendations. Overall, the \n",
              "attention to detail in food quality and service exceeded expectations, making it a memorable dining experience \n",
              "worth returning for.\n"
            ],
            "text/html": [
              "<pre style=\"white-space:pre;overflow-x:auto;line-height:normal;font-family:Menlo,'DejaVu Sans Mono',consolas,'Courier New',monospace\"><span style=\"color: #008000; text-decoration-color: #008000\">\"The Gourmet Bistro\"</span> provided a delightful dining experience with a cozy ambiance perfect for a romantic evening. \n",
              "The Caprese Salad was a refreshing start, followed by perfectly cooked Grilled Salmon with Lemon-Dill Sauce and a \n",
              "creamy Mushroom Risotto for the main courses. The signature Molten Chocolate Lava Cake was a rich and satisfying \n",
              "dessert. The impeccable service included knowledgeable staff and excellent wine recommendations. Overall, the \n",
              "attention to detail in food quality and service exceeded expectations, making it a memorable dining experience \n",
              "worth returning for.\n",
              "</pre>\n"
            ]
          },
          "metadata": {}
        }
      ]
    },
    {
      "cell_type": "code",
      "source": [
        "# prompt template for summarization\n",
        "prompt_template = \"\"\"You are an expert at summarizing text. \\\n",
        "Your task is to summarize the restaurant review below delimited by triple backticks.\n",
        "Use at most {words} words to summarize.\n",
        "\n",
        "Review:\n",
        "```\n",
        "{customer_review}\n",
        "```\n",
        "\n",
        "Summary:\n",
        "\"\"\"\n",
        "\n",
        "prompt = prompt_template.format(customer_review=customer_review, words=20)\n",
        "# generate_response\n",
        "response = generate_response(prompt, max_tokens=256)\n",
        "\n",
        "# print response\n",
        "print(response)"
      ],
      "metadata": {
        "id": "0PCSEu5BcElK",
        "colab": {
          "base_uri": "https://localhost:8080/",
          "height": 66
        },
        "outputId": "5d503484-4d16-4f26-b4c7-fea4acd64d50"
      },
      "execution_count": 7,
      "outputs": [
        {
          "output_type": "display_data",
          "data": {
            "text/plain": [
              "\u001b[32m\"The Gourmet Bistro\"\u001b[0m offers delightful dining with cozy ambiance, flavorful dishes, impeccable service, and \n",
              "memorable experience.\n"
            ],
            "text/html": [
              "<pre style=\"white-space:pre;overflow-x:auto;line-height:normal;font-family:Menlo,'DejaVu Sans Mono',consolas,'Courier New',monospace\"><span style=\"color: #008000; text-decoration-color: #008000\">\"The Gourmet Bistro\"</span> offers delightful dining with cozy ambiance, flavorful dishes, impeccable service, and \n",
              "memorable experience.\n",
              "</pre>\n"
            ]
          },
          "metadata": {}
        }
      ]
    },
    {
      "cell_type": "markdown",
      "source": [
        "## Sentiment Analysis"
      ],
      "metadata": {
        "id": "JRTHiCHfCJqG"
      }
    },
    {
      "cell_type": "code",
      "source": [
        "# prompt template for sentiment analysis\n",
        "prompt_template = \"\"\"You are an expert at sentiment analysis.\n",
        "Your task is to extract the sentiment of the restaurant review below delimited by triple backticks.\n",
        "\n",
        "Review:\n",
        "```\n",
        "{customer_review}\n",
        "```\n",
        "\n",
        "Sentiment:\n",
        "\"\"\"\n",
        "\n",
        "prompt = prompt_template.format(customer_review=customer_review)\n",
        "# generate_response\n",
        "response = generate_response(prompt, max_tokens=256)\n",
        "\n",
        "# print response\n",
        "print(response)"
      ],
      "metadata": {
        "id": "rFn911hec0fQ",
        "colab": {
          "base_uri": "https://localhost:8080/",
          "height": 98
        },
        "outputId": "a4565012-fbca-4adf-da5c-8127048dcab0"
      },
      "execution_count": 8,
      "outputs": [
        {
          "output_type": "display_data",
          "data": {
            "text/plain": [
              "The sentiment of the restaurant review is overwhelmingly positive. The reviewer expresses delight and satisfaction \n",
              "with every aspect of their dining experience, from the ambiance to the food quality, service, and overall attention\n",
              "to detail. They use words like \u001b[32m\"delightful,\"\u001b[0m \u001b[32m\"refreshing,\"\u001b[0m \u001b[32m\"outstanding,\"\u001b[0m \u001b[32m\"impeccable,\"\u001b[0m and \u001b[32m\"memorable\"\u001b[0m to convey \n",
              "their positive sentiment. Overall, the sentiment is highly favorable and enthusiastic.\n"
            ],
            "text/html": [
              "<pre style=\"white-space:pre;overflow-x:auto;line-height:normal;font-family:Menlo,'DejaVu Sans Mono',consolas,'Courier New',monospace\">The sentiment of the restaurant review is overwhelmingly positive. The reviewer expresses delight and satisfaction \n",
              "with every aspect of their dining experience, from the ambiance to the food quality, service, and overall attention\n",
              "to detail. They use words like <span style=\"color: #008000; text-decoration-color: #008000\">\"delightful,\"</span> <span style=\"color: #008000; text-decoration-color: #008000\">\"refreshing,\"</span> <span style=\"color: #008000; text-decoration-color: #008000\">\"outstanding,\"</span> <span style=\"color: #008000; text-decoration-color: #008000\">\"impeccable,\"</span> and <span style=\"color: #008000; text-decoration-color: #008000\">\"memorable\"</span> to convey \n",
              "their positive sentiment. Overall, the sentiment is highly favorable and enthusiastic.\n",
              "</pre>\n"
            ]
          },
          "metadata": {}
        }
      ]
    },
    {
      "cell_type": "code",
      "source": [
        "# prompt template for sentiment analysis\n",
        "prompt_template = \"\"\"You are an expert at sentiment analysis.\n",
        "Your task is to extract the sentiment of the restaurant review below delimited by triple backticks.\n",
        "Use one of the three options: Positive, Negative, or Neutral.\n",
        "\n",
        "Review:\n",
        "```\n",
        "{customer_review}\n",
        "```\n",
        "\n",
        "Sentiment:\n",
        "\"\"\"\n",
        "\n",
        "prompt = prompt_template.format(customer_review=customer_review)\n",
        "# generate_response\n",
        "response = generate_response(prompt, max_tokens=256)\n",
        "\n",
        "# print response\n",
        "print(response)"
      ],
      "metadata": {
        "id": "fo21AQA-dw52",
        "colab": {
          "base_uri": "https://localhost:8080/",
          "height": 33
        },
        "outputId": "1f467b29-843b-49bf-f84f-86b693dbae7a"
      },
      "execution_count": 9,
      "outputs": [
        {
          "output_type": "display_data",
          "data": {
            "text/plain": [
              "Positive\n"
            ],
            "text/html": [
              "<pre style=\"white-space:pre;overflow-x:auto;line-height:normal;font-family:Menlo,'DejaVu Sans Mono',consolas,'Courier New',monospace\">Positive\n",
              "</pre>\n"
            ]
          },
          "metadata": {}
        }
      ]
    },
    {
      "cell_type": "code",
      "source": [
        "# prompt template for sentiment analysis\n",
        "prompt_template = \"\"\"You are an expert at sentiment analysis.\n",
        "Your task is to extract the sentiment of the restaurant review below delimited by triple backticks.\n",
        "\n",
        "Identify all the topics that the review is about. Pick the topics from this list.\n",
        "\n",
        "1. Quality of Food\n",
        "2. Service Experience\n",
        "3. Ambiance\n",
        "4. Notable Dishes\n",
        "5. Overall Recommendation\n",
        "\n",
        "For each topic identify the sentiment. Use one of these sentiments: Positive, Negative, or Neutral.\n",
        "Include all the topics in the output.\n",
        "\n",
        "Review:\n",
        "```\n",
        "{customer_review}\n",
        "```\n",
        "\n",
        "Sentiment:\n",
        "<Topic>:<Sentiment>\n",
        "<Topic>:<Sentiment>\n",
        "\"\"\"\n",
        "\n",
        "prompt = prompt_template.format(customer_review=customer_review)\n",
        "# generate_response\n",
        "response = generate_response(prompt, max_tokens=256)\n",
        "\n",
        "# print response\n",
        "print(response)"
      ],
      "metadata": {
        "id": "cjl-1CfueJhp",
        "colab": {
          "base_uri": "https://localhost:8080/",
          "height": 97
        },
        "outputId": "ff5664f3-337e-4ac8-fadc-525c2d8c8175"
      },
      "execution_count": 10,
      "outputs": [
        {
          "output_type": "display_data",
          "data": {
            "text/plain": [
              "Quality of Food: Positive\n",
              "Service Experience: Positive\n",
              "Ambiance: Positive\n",
              "Notable Dishes: Positive\n",
              "Overall Recommendation: Positive\n"
            ],
            "text/html": [
              "<pre style=\"white-space:pre;overflow-x:auto;line-height:normal;font-family:Menlo,'DejaVu Sans Mono',consolas,'Courier New',monospace\">Quality of Food: Positive\n",
              "Service Experience: Positive\n",
              "Ambiance: Positive\n",
              "Notable Dishes: Positive\n",
              "Overall Recommendation: Positive\n",
              "</pre>\n"
            ]
          },
          "metadata": {}
        }
      ]
    },
    {
      "cell_type": "code",
      "source": [
        "# prompt template for sentiment analysis\n",
        "prompt_template = \"\"\"You are an expert at sentiment analysis.\n",
        "Your task is to extract the sentiment of the restaurant review below delimited by triple backticks.\n",
        "\n",
        "Identify all the topics that the review is about. Pick the topics from this list.\n",
        "\n",
        "1. Quality of Food\n",
        "2. Service Experience\n",
        "3. Ambiance\n",
        "4. Notable Dishes\n",
        "5. Overall Recommendation\n",
        "\n",
        "For each topic identify the sentiment. Use one of these sentiments: Positive, Negative, or Neutral.\n",
        "Include all the topics in the output.\n",
        "\n",
        "Review:\n",
        "```\n",
        "{customer_review}\n",
        "```\n",
        "\n",
        "Generate a structured summary for each topic with relevant information from the review in JSON format.\n",
        "Generate a list of dictionaries where each dictionary has the following format:\n",
        "topic: <topic_name>\n",
        "sentiment: <sentiment>\n",
        "sentiment_score: <score between 0 and 1>\n",
        "\n",
        "Output:\n",
        "<OUTPUT>\n",
        "\n",
        "The output should not be a markdown code snippet. Output should not include the leading and trailing \"```json\" and \"```\"\n",
        "\"\"\"\n",
        "\n",
        "prompt = prompt_template.format(customer_review=customer_review)\n",
        "# generate_response\n",
        "response = generate_response(prompt, max_tokens=256)\n",
        "\n",
        "# print response\n",
        "print(response)"
      ],
      "metadata": {
        "id": "zmga2uBfmswi",
        "colab": {
          "base_uri": "https://localhost:8080/",
          "height": 481
        },
        "outputId": "62c63e22-b778-4295-a928-7da37005f6fb"
      },
      "execution_count": 11,
      "outputs": [
        {
          "output_type": "display_data",
          "data": {
            "text/plain": [
              "\u001b[1m{\u001b[0m\n",
              "  \u001b[32m\"topics\"\u001b[0m: \u001b[1m[\u001b[0m\n",
              "    \u001b[1m{\u001b[0m\n",
              "      \u001b[32m\"topic\"\u001b[0m: \u001b[32m\"Quality of Food\"\u001b[0m,\n",
              "      \u001b[32m\"sentiment\"\u001b[0m: \u001b[32m\"Positive\"\u001b[0m,\n",
              "      \u001b[32m\"sentiment_score\"\u001b[0m: \u001b[1;36m0.9\u001b[0m\n",
              "    \u001b[1m}\u001b[0m,\n",
              "    \u001b[1m{\u001b[0m\n",
              "      \u001b[32m\"topic\"\u001b[0m: \u001b[32m\"Service Experience\"\u001b[0m,\n",
              "      \u001b[32m\"sentiment\"\u001b[0m: \u001b[32m\"Positive\"\u001b[0m,\n",
              "      \u001b[32m\"sentiment_score\"\u001b[0m: \u001b[1;36m0.85\u001b[0m\n",
              "    \u001b[1m}\u001b[0m,\n",
              "    \u001b[1m{\u001b[0m\n",
              "      \u001b[32m\"topic\"\u001b[0m: \u001b[32m\"Ambiance\"\u001b[0m,\n",
              "      \u001b[32m\"sentiment\"\u001b[0m: \u001b[32m\"Positive\"\u001b[0m,\n",
              "      \u001b[32m\"sentiment_score\"\u001b[0m: \u001b[1;36m0.8\u001b[0m\n",
              "    \u001b[1m}\u001b[0m,\n",
              "    \u001b[1m{\u001b[0m\n",
              "      \u001b[32m\"topic\"\u001b[0m: \u001b[32m\"Notable Dishes\"\u001b[0m,\n",
              "      \u001b[32m\"sentiment\"\u001b[0m: \u001b[32m\"Positive\"\u001b[0m,\n",
              "      \u001b[32m\"sentiment_score\"\u001b[0m: \u001b[1;36m0.9\u001b[0m\n",
              "    \u001b[1m}\u001b[0m,\n",
              "    \u001b[1m{\u001b[0m\n",
              "      \u001b[32m\"topic\"\u001b[0m: \u001b[32m\"Overall Recommendation\"\u001b[0m,\n",
              "      \u001b[32m\"sentiment\"\u001b[0m: \u001b[32m\"Positive\"\u001b[0m,\n",
              "      \u001b[32m\"sentiment_score\"\u001b[0m: \u001b[1;36m0.95\u001b[0m\n",
              "    \u001b[1m}\u001b[0m\n",
              "  \u001b[1m]\u001b[0m\n",
              "\u001b[1m}\u001b[0m\n"
            ],
            "text/html": [
              "<pre style=\"white-space:pre;overflow-x:auto;line-height:normal;font-family:Menlo,'DejaVu Sans Mono',consolas,'Courier New',monospace\"><span style=\"font-weight: bold\">{</span>\n",
              "  <span style=\"color: #008000; text-decoration-color: #008000\">\"topics\"</span>: <span style=\"font-weight: bold\">[</span>\n",
              "    <span style=\"font-weight: bold\">{</span>\n",
              "      <span style=\"color: #008000; text-decoration-color: #008000\">\"topic\"</span>: <span style=\"color: #008000; text-decoration-color: #008000\">\"Quality of Food\"</span>,\n",
              "      <span style=\"color: #008000; text-decoration-color: #008000\">\"sentiment\"</span>: <span style=\"color: #008000; text-decoration-color: #008000\">\"Positive\"</span>,\n",
              "      <span style=\"color: #008000; text-decoration-color: #008000\">\"sentiment_score\"</span>: <span style=\"color: #008080; text-decoration-color: #008080; font-weight: bold\">0.9</span>\n",
              "    <span style=\"font-weight: bold\">}</span>,\n",
              "    <span style=\"font-weight: bold\">{</span>\n",
              "      <span style=\"color: #008000; text-decoration-color: #008000\">\"topic\"</span>: <span style=\"color: #008000; text-decoration-color: #008000\">\"Service Experience\"</span>,\n",
              "      <span style=\"color: #008000; text-decoration-color: #008000\">\"sentiment\"</span>: <span style=\"color: #008000; text-decoration-color: #008000\">\"Positive\"</span>,\n",
              "      <span style=\"color: #008000; text-decoration-color: #008000\">\"sentiment_score\"</span>: <span style=\"color: #008080; text-decoration-color: #008080; font-weight: bold\">0.85</span>\n",
              "    <span style=\"font-weight: bold\">}</span>,\n",
              "    <span style=\"font-weight: bold\">{</span>\n",
              "      <span style=\"color: #008000; text-decoration-color: #008000\">\"topic\"</span>: <span style=\"color: #008000; text-decoration-color: #008000\">\"Ambiance\"</span>,\n",
              "      <span style=\"color: #008000; text-decoration-color: #008000\">\"sentiment\"</span>: <span style=\"color: #008000; text-decoration-color: #008000\">\"Positive\"</span>,\n",
              "      <span style=\"color: #008000; text-decoration-color: #008000\">\"sentiment_score\"</span>: <span style=\"color: #008080; text-decoration-color: #008080; font-weight: bold\">0.8</span>\n",
              "    <span style=\"font-weight: bold\">}</span>,\n",
              "    <span style=\"font-weight: bold\">{</span>\n",
              "      <span style=\"color: #008000; text-decoration-color: #008000\">\"topic\"</span>: <span style=\"color: #008000; text-decoration-color: #008000\">\"Notable Dishes\"</span>,\n",
              "      <span style=\"color: #008000; text-decoration-color: #008000\">\"sentiment\"</span>: <span style=\"color: #008000; text-decoration-color: #008000\">\"Positive\"</span>,\n",
              "      <span style=\"color: #008000; text-decoration-color: #008000\">\"sentiment_score\"</span>: <span style=\"color: #008080; text-decoration-color: #008080; font-weight: bold\">0.9</span>\n",
              "    <span style=\"font-weight: bold\">}</span>,\n",
              "    <span style=\"font-weight: bold\">{</span>\n",
              "      <span style=\"color: #008000; text-decoration-color: #008000\">\"topic\"</span>: <span style=\"color: #008000; text-decoration-color: #008000\">\"Overall Recommendation\"</span>,\n",
              "      <span style=\"color: #008000; text-decoration-color: #008000\">\"sentiment\"</span>: <span style=\"color: #008000; text-decoration-color: #008000\">\"Positive\"</span>,\n",
              "      <span style=\"color: #008000; text-decoration-color: #008000\">\"sentiment_score\"</span>: <span style=\"color: #008080; text-decoration-color: #008080; font-weight: bold\">0.95</span>\n",
              "    <span style=\"font-weight: bold\">}</span>\n",
              "  <span style=\"font-weight: bold\">]</span>\n",
              "<span style=\"font-weight: bold\">}</span>\n",
              "</pre>\n"
            ]
          },
          "metadata": {}
        }
      ]
    },
    {
      "cell_type": "markdown",
      "source": [
        "## Token Classification"
      ],
      "metadata": {
        "id": "DMYB5eiYCLJG"
      }
    },
    {
      "cell_type": "code",
      "source": [
        "# prompt template for token classification\n",
        "prompt_template = \"\"\"You are an expert at token classification.\n",
        "Your task is to extract key dishes and their  types from the restaurant review below delimited by triple backticks.\n",
        "\n",
        "Identify all the types from the review. Pick the entity types from this list.\n",
        "\n",
        "1. Appetizer\n",
        "2. Salad\n",
        "3. Main course\n",
        "4. Dessert\n",
        "\n",
        "\n",
        "Review:\n",
        "```\n",
        "{customer_review}\n",
        "```\n",
        "\n",
        "Generate a structured summary for each entity type with in JSON format.\n",
        "Generate a list of dictionaries where each dictionary has the following format:\n",
        "Appetizers: <appetizer 1, appetizer 2, ..>\n",
        "Salad: <salad 1, salad 2, ..>\n",
        "Main course: <course 1, course 2, ..>\n",
        "Dessert: <dessert 1, dessert 2, ..>\n",
        "\n",
        "Output:\n",
        "<OUTPUT>\n",
        "\n",
        "The output should not be a markdown code snippet. Output should not include the leading and trailing \"```json\" and \"```\"\n",
        "\"\"\"\n",
        "\n",
        "prompt = prompt_template.format(customer_review=customer_review)\n",
        "# generate_response\n",
        "response = generate_response(prompt, max_tokens=256)\n",
        "\n",
        "# print response\n",
        "print(response)"
      ],
      "metadata": {
        "id": "wUlZnIQaw4Jz",
        "colab": {
          "base_uri": "https://localhost:8080/",
          "height": 113
        },
        "outputId": "e6419071-7c34-4e2f-aafb-a58f793a6c65"
      },
      "execution_count": 12,
      "outputs": [
        {
          "output_type": "display_data",
          "data": {
            "text/plain": [
              "\u001b[1m{\u001b[0m\n",
              "  \u001b[32m\"Appetizer\"\u001b[0m: \u001b[1m[\u001b[0m\u001b[1m]\u001b[0m,\n",
              "  \u001b[32m\"Salad\"\u001b[0m: \u001b[1m[\u001b[0m\u001b[32m\"Caprese Salad\"\u001b[0m\u001b[1m]\u001b[0m,\n",
              "  \u001b[32m\"Main course\"\u001b[0m: \u001b[1m[\u001b[0m\u001b[32m\"Grilled Salmon with Lemon-Dill Sauce\"\u001b[0m, \u001b[32m\"Mushroom Risotto\"\u001b[0m\u001b[1m]\u001b[0m,\n",
              "  \u001b[32m\"Dessert\"\u001b[0m: \u001b[1m[\u001b[0m\u001b[32m\"Molten Chocolate Lava Cake\"\u001b[0m\u001b[1m]\u001b[0m\n",
              "\u001b[1m}\u001b[0m\n"
            ],
            "text/html": [
              "<pre style=\"white-space:pre;overflow-x:auto;line-height:normal;font-family:Menlo,'DejaVu Sans Mono',consolas,'Courier New',monospace\"><span style=\"font-weight: bold\">{</span>\n",
              "  <span style=\"color: #008000; text-decoration-color: #008000\">\"Appetizer\"</span>: <span style=\"font-weight: bold\">[]</span>,\n",
              "  <span style=\"color: #008000; text-decoration-color: #008000\">\"Salad\"</span>: <span style=\"font-weight: bold\">[</span><span style=\"color: #008000; text-decoration-color: #008000\">\"Caprese Salad\"</span><span style=\"font-weight: bold\">]</span>,\n",
              "  <span style=\"color: #008000; text-decoration-color: #008000\">\"Main course\"</span>: <span style=\"font-weight: bold\">[</span><span style=\"color: #008000; text-decoration-color: #008000\">\"Grilled Salmon with Lemon-Dill Sauce\"</span>, <span style=\"color: #008000; text-decoration-color: #008000\">\"Mushroom Risotto\"</span><span style=\"font-weight: bold\">]</span>,\n",
              "  <span style=\"color: #008000; text-decoration-color: #008000\">\"Dessert\"</span>: <span style=\"font-weight: bold\">[</span><span style=\"color: #008000; text-decoration-color: #008000\">\"Molten Chocolate Lava Cake\"</span><span style=\"font-weight: bold\">]</span>\n",
              "<span style=\"font-weight: bold\">}</span>\n",
              "</pre>\n"
            ]
          },
          "metadata": {}
        }
      ]
    },
    {
      "cell_type": "markdown",
      "source": [
        "## Translation"
      ],
      "metadata": {
        "id": "7497VqvvCNUe"
      }
    },
    {
      "cell_type": "code",
      "source": [
        "# prompt template for translation\n",
        "prompt_template = \"\"\"You are an expert at translation from English to {language}.\n",
        "Your task is as follows:\n",
        "1. Summarize the restaurant review below delimited by triple backticks. Use at most {words} words to summarize.\n",
        "2. Translate the summary to {language}.\n",
        "\n",
        "Review:\n",
        "```\n",
        "{customer_review}\n",
        "```\n",
        "\"\"\"\n",
        "\n",
        "prompt = prompt_template.format(customer_review=customer_review,words=30,language=\"Spanish\")\n",
        "# generate_response\n",
        "response = generate_response(prompt, max_tokens=256)\n",
        "\n",
        "# print response\n",
        "print(response)"
      ],
      "metadata": {
        "id": "mhiz2TBbS-nM",
        "colab": {
          "base_uri": "https://localhost:8080/",
          "height": 178
        },
        "outputId": "9f55ffdb-9749-4cbe-bb96-c0374f70a0f8"
      },
      "execution_count": 13,
      "outputs": [
        {
          "output_type": "display_data",
          "data": {
            "text/plain": [
              "Summary:\n",
              "Delightful dining experience at \u001b[32m\"The Gourmet Bistro\"\u001b[0m with cozy ambiance, fresh Caprese Salad, perfect Grilled \n",
              "Salmon, creamy Mushroom Risotto, and a rich Molten Chocolate Lava Cake. Impeccable service and excellent wine \n",
              "recommendations.\n",
              "\n",
              "Spanish Translation:\n",
              "Experiencia gastronómica encantadora en \u001b[32m\"The Gourmet Bistro\"\u001b[0m con ambiente acogedor, fresca Ensalada Caprese, \n",
              "perfecto Salmón a la Parrilla, cremoso Risotto de Champiñones y un rico Pastel de Chocolate Fundido. Servicio \n",
              "impecable y excelentes recomendaciones de vino.\n"
            ],
            "text/html": [
              "<pre style=\"white-space:pre;overflow-x:auto;line-height:normal;font-family:Menlo,'DejaVu Sans Mono',consolas,'Courier New',monospace\">Summary:\n",
              "Delightful dining experience at <span style=\"color: #008000; text-decoration-color: #008000\">\"The Gourmet Bistro\"</span> with cozy ambiance, fresh Caprese Salad, perfect Grilled \n",
              "Salmon, creamy Mushroom Risotto, and a rich Molten Chocolate Lava Cake. Impeccable service and excellent wine \n",
              "recommendations.\n",
              "\n",
              "Spanish Translation:\n",
              "Experiencia gastronómica encantadora en <span style=\"color: #008000; text-decoration-color: #008000\">\"The Gourmet Bistro\"</span> con ambiente acogedor, fresca Ensalada Caprese, \n",
              "perfecto Salmón a la Parrilla, cremoso Risotto de Champiñones y un rico Pastel de Chocolate Fundido. Servicio \n",
              "impecable y excelentes recomendaciones de vino.\n",
              "</pre>\n"
            ]
          },
          "metadata": {}
        }
      ]
    },
    {
      "cell_type": "markdown",
      "source": [
        "## Text Generation"
      ],
      "metadata": {
        "id": "pE8o8QTwCQOv"
      }
    },
    {
      "cell_type": "code",
      "source": [
        "# prompt template for writing email\n",
        "prompt_template = \"\"\"You are an expert at writing customer support emails.\n",
        "Your task is to send an email reply to a valued customer.\n",
        "Given the customer review delimited by ```, \\\n",
        "Generate a reply to thank the customer for their review.\n",
        "If the sentiment is positive or neutral, thank them for \\\n",
        "their review.\n",
        "If the sentiment is negative, apologize and suggest that \\\n",
        "they can reach out to customer service.\n",
        "Make sure to use specific details from the review.\n",
        "Write in a concise and professional tone.\n",
        "Sign the email as `AI customer agent`.\n",
        "\n",
        "Review:\n",
        "```\n",
        "{customer_review}\n",
        "```\n",
        "\"\"\"\n",
        "\n",
        "prompt = prompt_template.format(customer_review=customer_review)\n",
        "# generate_response\n",
        "response = generate_response(prompt, max_tokens=256)\n",
        "\n",
        "# print response\n",
        "print(response)"
      ],
      "metadata": {
        "id": "oPWZUv0ZCG48",
        "colab": {
          "base_uri": "https://localhost:8080/",
          "height": 370
        },
        "outputId": "9067ca76-0ee1-4a39-ce2e-505410209111"
      },
      "execution_count": 14,
      "outputs": [
        {
          "output_type": "display_data",
          "data": {
            "text/plain": [
              "Subject: Thank You for Your Wonderful Review\n",
              "\n",
              "Dear Valued Customer,\n",
              "\n",
              "Thank you for taking the time to share your recent dining experience at \u001b[32m\"The Gourmet Bistro.\"\u001b[0m We are thrilled to \n",
              "hear that you had an absolutely delightful evening from start to finish. Your detailed description of the ambiance,\n",
              "the dishes you enjoyed, and the impeccable service truly warms our hearts.\n",
              "\n",
              "We are delighted to hear that the Caprese Salad, Grilled Salmon with Lemon-Dill Sauce, Mushroom Risotto, and Molten\n",
              "Chocolate Lava Cake left a lasting impression. It's wonderful to know that our team's dedication to providing a \n",
              "memorable dining experience shone through during your visit.\n",
              "\n",
              "Your kind words about the service and the sommelier's wine recommendations are greatly appreciated. We take pride \n",
              "in offering exceptional service and ensuring that every aspect of your visit is nothing short of outstanding.\n",
              "\n",
              "Thank you once again for choosing \u001b[32m\"The Gourmet Bistro.\"\u001b[0m We look forward to welcoming you back for more culinary \n",
              "adventures in the future.\n",
              "\n",
              "Warm regards,\n",
              "\n",
              "AI customer agent\n"
            ],
            "text/html": [
              "<pre style=\"white-space:pre;overflow-x:auto;line-height:normal;font-family:Menlo,'DejaVu Sans Mono',consolas,'Courier New',monospace\">Subject: Thank You for Your Wonderful Review\n",
              "\n",
              "Dear Valued Customer,\n",
              "\n",
              "Thank you for taking the time to share your recent dining experience at <span style=\"color: #008000; text-decoration-color: #008000\">\"The Gourmet Bistro.\"</span> We are thrilled to \n",
              "hear that you had an absolutely delightful evening from start to finish. Your detailed description of the ambiance,\n",
              "the dishes you enjoyed, and the impeccable service truly warms our hearts.\n",
              "\n",
              "We are delighted to hear that the Caprese Salad, Grilled Salmon with Lemon-Dill Sauce, Mushroom Risotto, and Molten\n",
              "Chocolate Lava Cake left a lasting impression. It's wonderful to know that our team's dedication to providing a \n",
              "memorable dining experience shone through during your visit.\n",
              "\n",
              "Your kind words about the service and the sommelier's wine recommendations are greatly appreciated. We take pride \n",
              "in offering exceptional service and ensuring that every aspect of your visit is nothing short of outstanding.\n",
              "\n",
              "Thank you once again for choosing <span style=\"color: #008000; text-decoration-color: #008000\">\"The Gourmet Bistro.\"</span> We look forward to welcoming you back for more culinary \n",
              "adventures in the future.\n",
              "\n",
              "Warm regards,\n",
              "\n",
              "AI customer agent\n",
              "</pre>\n"
            ]
          },
          "metadata": {}
        }
      ]
    },
    {
      "cell_type": "code",
      "source": [
        "# prompt template for writing email\n",
        "prompt_template = \"\"\"You are an expert at writing customer support emails.\n",
        "Your task is to send an email reply to a valued customer. Use at most {words} words in your email.\n",
        "Given the customer review delimited by ```, \\\n",
        "Generate a reply to thank the customer for their review.\n",
        "If the sentiment is positive or neutral, thank them for \\\n",
        "their review.\n",
        "If the sentiment is negative, apologize and suggest that \\\n",
        "they can reach out to customer service.\n",
        "Make sure to use specific details from the review.\n",
        "Write in a concise and professional tone.\n",
        "Sign the email as `AI customer agent`.\n",
        "\n",
        "Review:\n",
        "```\n",
        "{customer_review}\n",
        "```\n",
        "\"\"\"\n",
        "\n",
        "prompt = prompt_template.format(customer_review=customer_review, words=50)\n",
        "# generate_response\n",
        "response = generate_response(prompt, max_tokens=256)\n",
        "\n",
        "# print response\n",
        "print(response)"
      ],
      "metadata": {
        "id": "Cfabj7wqUiOG",
        "colab": {
          "base_uri": "https://localhost:8080/",
          "height": 178
        },
        "outputId": "2a3e6618-f638-4385-db8b-22406b9361b6"
      },
      "execution_count": 15,
      "outputs": [
        {
          "output_type": "display_data",
          "data": {
            "text/plain": [
              "Subject: Thank You for Your Wonderful Review\n",
              "\n",
              "Dear Valued Customer,\n",
              "\n",
              "Thank you for your delightful review of your recent dining experience at \u001b[32m\"The Gourmet Bistro.\"\u001b[0m We are thrilled to \n",
              "hear that you enjoyed the ambiance, food, and service. We appreciate your kind words and look forward to welcoming \n",
              "you back for more culinary adventures in the future.\n",
              "\n",
              "AI customer agent\n"
            ],
            "text/html": [
              "<pre style=\"white-space:pre;overflow-x:auto;line-height:normal;font-family:Menlo,'DejaVu Sans Mono',consolas,'Courier New',monospace\">Subject: Thank You for Your Wonderful Review\n",
              "\n",
              "Dear Valued Customer,\n",
              "\n",
              "Thank you for your delightful review of your recent dining experience at <span style=\"color: #008000; text-decoration-color: #008000\">\"The Gourmet Bistro.\"</span> We are thrilled to \n",
              "hear that you enjoyed the ambiance, food, and service. We appreciate your kind words and look forward to welcoming \n",
              "you back for more culinary adventures in the future.\n",
              "\n",
              "AI customer agent\n",
              "</pre>\n"
            ]
          },
          "metadata": {}
        }
      ]
    }
  ]
}